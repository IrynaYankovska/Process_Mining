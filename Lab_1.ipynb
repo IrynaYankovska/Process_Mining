{
 "cells": [
  {
   "cell_type": "markdown",
   "metadata": {},
   "source": [
    "# Lab 1 - Python introduction\n"
   ]
  },
  {
   "cell_type": "markdown",
   "metadata": {},
   "source": [
    "### Exercise 0 - Example\n",
    "Assign the number 31 to a new variable, q. Write an expression that raises q to the 4th power "
   ]
  },
  {
   "cell_type": "code",
   "execution_count": 130,
   "metadata": {},
   "outputs": [
    {
     "data": {
      "text/plain": [
       "923521"
      ]
     },
     "execution_count": 130,
     "metadata": {},
     "output_type": "execute_result"
    }
   ],
   "source": [
    "# Your answer here\n",
    "q = 31\n",
    "q**4"
   ]
  },
  {
   "cell_type": "markdown",
   "metadata": {},
   "source": [
    "### Exercise 1\n",
    "Create arbitrary list, tuple and dictionary and print them"
   ]
  },
  {
   "cell_type": "code",
   "execution_count": 131,
   "metadata": {},
   "outputs": [
    {
     "name": "stdout",
     "output_type": "stream",
     "text": [
      "[10, 1.1, 'abc', 'dfe']\n"
     ]
    }
   ],
   "source": [
    "l=[10,1.1,'abc','dfe']\n",
    "print(l)"
   ]
  },
  {
   "cell_type": "markdown",
   "metadata": {},
   "source": [
    "### Exercise 2\n",
    "Print the next elements of array s: 10th, from 10 to 20, all elements more than 0 "
   ]
  },
  {
   "cell_type": "code",
   "execution_count": 132,
   "metadata": {},
   "outputs": [
    {
     "name": "stdout",
     "output_type": "stream",
     "text": [
      "-1.0346868738800727\n",
      "[-1.03468687  0.08685811  1.29241663 -1.35846936 -0.55872747 -1.22955794\n",
      " -0.21093873  0.09209207  0.37656999  0.25875494]\n",
      "[0.42161874 0.26944727 0.37357757 1.28659061 0.08685811 1.29241663\n",
      " 0.09209207 0.37656999 0.25875494 0.44664241 0.66211657 0.4929061\n",
      " 0.65181295 0.88908656 0.47431969 0.34176835 2.16328943 0.94280257\n",
      " 0.22878379 0.66058684 0.76051242 0.16023547 0.80136155 0.46057526\n",
      " 0.26654568 0.07740997 1.80333978 0.78386221 0.30396739 0.85168632\n",
      " 0.60557761 1.83078911 0.00448414 0.35474026 0.76769964 1.02516124\n",
      " 0.44583711 1.68565448 0.58120649 0.39139437 0.11454402 1.46263375\n",
      " 2.39995554 1.1101216  0.02203178 0.25047732 0.43525857 0.64427885]\n"
     ]
    }
   ],
   "source": [
    "import numpy as np\n",
    "s = np.random.normal(0,1,100)\n",
    "\n",
    "print(s[9])\n",
    "print(s[9:19])\n",
    "print(s[s>0])\n"
   ]
  },
  {
   "cell_type": "markdown",
   "metadata": {},
   "source": [
    "### Exercise 3\n",
    "Make a function `pow` that raised base `number` to a fixed power `power`. If `power >= 50` print message \"power is too big\" and return `-1`"
   ]
  },
  {
   "cell_type": "code",
   "execution_count": 133,
   "metadata": {},
   "outputs": [
    {
     "name": "stdout",
     "output_type": "stream",
     "text": [
      "power is too big\n"
     ]
    },
    {
     "data": {
      "text/plain": [
       "-1"
      ]
     },
     "execution_count": 133,
     "metadata": {},
     "output_type": "execute_result"
    }
   ],
   "source": [
    "number=0\n",
    "power=50\n",
    "\n",
    "def pow (n,p):\n",
    "    while (n<50):\n",
    "        n = n+1\n",
    "    if n>=p: \n",
    "        print ('power is too big')\n",
    "        return -1\n",
    "\n",
    "pow(number,power)"
   ]
  },
  {
   "cell_type": "markdown",
   "metadata": {},
   "source": [
    "### Exercise 4\n",
    "Make a function `above(x,n)` which returns all elements `x > n`. By default `n = 10`. &nbsp; `x` argument is a numpy arrays"
   ]
  },
  {
   "cell_type": "code",
   "execution_count": 134,
   "metadata": {},
   "outputs": [
    {
     "name": "stdout",
     "output_type": "stream",
     "text": [
      "14\n",
      "11\n",
      "16\n"
     ]
    }
   ],
   "source": [
    "import numpy as np\n",
    "\n",
    "mylist = [1,3,5,7,9,14,11,16,10]\n",
    "b = np.array(mylist)\n",
    "\n",
    "def above (ar,n):\n",
    "    for x in ar:\n",
    "        if x>n:\n",
    "            print (x)\n",
    "\n",
    "above (b,10)\n",
    "\n",
    "\n"
   ]
  },
  {
   "cell_type": "markdown",
   "metadata": {},
   "source": [
    "### Exercise 5\n",
    "Write a function `my_ifelse(x, exp, n)` which test array `x` with expression `exp` to number `n`. For instance, `my_ifelse(x,'>=',10)` returns all elements of array `x` which greater or equal 10. `exp` can be `<`, `>`, `<=`, `>=`, `==`. If `exp` dont match these expression array `x` is retured"
   ]
  },
  {
   "cell_type": "code",
   "execution_count": 162,
   "metadata": {},
   "outputs": [
    {
     "name": "stdout",
     "output_type": "stream",
     "text": [
      "9\n"
     ]
    }
   ],
   "source": [
    "import numpy as np\n",
    "\n",
    "\n",
    "\n",
    "def my_ifelse(ar, n):\n",
    "    for x in ar:\n",
    "        if x == n:\n",
    "            print (x)\n",
    "         \n",
    "\n",
    "\n",
    "my_ifelse(b,9)"
   ]
  },
  {
   "cell_type": "markdown",
   "metadata": {},
   "source": [
    "### Exercise 6\n",
    "Make a function called `counter` that takes a string input_string and returns a dictionary of letter counts."
   ]
  },
  {
   "cell_type": "code",
   "execution_count": 165,
   "metadata": {},
   "outputs": [
    {
     "data": {
      "text/plain": [
       "{'It is test string for exc 6': 27}"
      ]
     },
     "execution_count": 165,
     "metadata": {},
     "output_type": "execute_result"
    }
   ],
   "source": [
    "input_string='It is test string for exc 6'\n",
    "\n",
    "def counter (s):\n",
    "    coun=len(s)\n",
    "    return {s:coun}\n",
    "\n",
    "count_string=counter(input_string)\n",
    "count_string\n"
   ]
  },
  {
   "cell_type": "markdown",
   "metadata": {},
   "source": [
    "### Exercise 7\n",
    "From the function `counter` make function `counter_sorted` with second boolean argumens `reverse` that returns sorted letter counts. Order depends of the `reverse` argument. By default `reverse = False`"
   ]
  },
  {
   "cell_type": "code",
   "execution_count": 170,
   "metadata": {},
   "outputs": [
    {
     "data": {
      "text/plain": [
       "{'It is test string for exc 6': 27}"
      ]
     },
     "execution_count": 170,
     "metadata": {},
     "output_type": "execute_result"
    }
   ],
   "source": [
    "def counter_sorted (c,reverse):\n",
    "    if reverse==True:\n",
    "        sorted_tuple=sorted(c.items(), key=lambda item:item[1])\n",
    "        sorted_c={k: v for k , v in sorted_tuple}\n",
    "        return sorted_c\n",
    "    \n",
    "counter_sorted(count_string,True)\n"
   ]
  }
 ],
 "metadata": {
  "interpreter": {
   "hash": "f843a079e5343034ef02567ca1a879f548a2d98e58c7922bcae356717ee3c13a"
  },
  "kernelspec": {
   "display_name": "Python 3.10.2 64-bit",
   "language": "python",
   "name": "python3"
  },
  "language_info": {
   "codemirror_mode": {
    "name": "ipython",
    "version": 3
   },
   "file_extension": ".py",
   "mimetype": "text/x-python",
   "name": "python",
   "nbconvert_exporter": "python",
   "pygments_lexer": "ipython3",
   "version": "3.10.2"
  },
  "orig_nbformat": 2
 },
 "nbformat": 4,
 "nbformat_minor": 2
}
