{
 "cells": [
  {
   "cell_type": "markdown",
   "metadata": {},
   "source": [
    "# Lab 1 - Python introduction\n"
   ]
  },
  {
   "cell_type": "markdown",
   "metadata": {},
   "source": [
    "### Exercise 0 - Example\n",
    "Assign the number 31 to a new variable, q. Write an expression that raises q to the 4th power "
   ]
  },
  {
   "cell_type": "code",
   "execution_count": 45,
   "metadata": {},
   "outputs": [
    {
     "data": {
      "text/plain": [
       "923521"
      ]
     },
     "execution_count": 45,
     "metadata": {},
     "output_type": "execute_result"
    }
   ],
   "source": [
    "# Your answer here\n",
    "q = 31\n",
    "q**4"
   ]
  },
  {
   "cell_type": "markdown",
   "metadata": {},
   "source": [
    "### Exercise 1\n",
    "Create arbitrary list, tuple and dictionary and print them"
   ]
  },
  {
   "cell_type": "code",
   "execution_count": 46,
   "metadata": {},
   "outputs": [
    {
     "name": "stdout",
     "output_type": "stream",
     "text": [
      "[10, 1.1, 'abc', 'dfe']\n",
      "<class 'list'> \n",
      "\n",
      "('it`s a tuple', 2, 3.4)\n",
      "<class 'tuple'> \n",
      "\n",
      "{1: 'a', 2: 'b', 3: 'c'}\n",
      "<class 'dict'> \n",
      "\n"
     ]
    }
   ],
   "source": [
    "l=[10,1.1,'abc','dfe']\n",
    "t=('it`s a tuple',2,3.4)\n",
    "d={1:'a',2:'b',3:'c'}\n",
    "\n",
    "print(l)\n",
    "print(type(l),'\\n')\n",
    "\n",
    "print(t)\n",
    "print(type(t),'\\n')\n",
    "\n",
    "print(d)\n",
    "print(type(d),'\\n')"
   ]
  },
  {
   "cell_type": "markdown",
   "metadata": {},
   "source": [
    "### Exercise 2\n",
    "Print the next elements of array s: 10th, from 10 to 20, all elements more than 0 "
   ]
  },
  {
   "cell_type": "code",
   "execution_count": 47,
   "metadata": {},
   "outputs": [
    {
     "name": "stdout",
     "output_type": "stream",
     "text": [
      "-1.0398720543241509\n",
      "[-1.03987205 -1.24858179  0.4649824  -0.27887915  0.21910362  0.57442278\n",
      " -0.39772155 -1.47444928 -1.50659296 -1.96537393]\n",
      "[0.33496326 1.12557037 0.03195559 0.48158272 0.4649824  0.21910362\n",
      " 0.57442278 0.66420108 0.87847483 0.80827064 0.09959143 0.47481313\n",
      " 0.57618205 2.12538425 0.52042013 0.113935   0.62467715 1.37479188\n",
      " 0.47756268 0.48820317 0.00857608 0.07194582 2.02728507 0.93931926\n",
      " 1.28562734 0.53358258 0.76248124 0.20356632 2.83519644 1.67450796\n",
      " 0.34485749 0.03263316 1.07046373 1.78978848 0.14253554 0.85773093\n",
      " 0.09958333 0.61580794 0.44017145 0.13598587 1.28281861 0.67887124\n",
      " 2.07561829 0.06059776 0.11119847 0.99076341 0.65041251 0.2267319\n",
      " 0.10446638 0.23573368 0.12992681 0.5298493  0.05555474 0.78635965\n",
      " 0.47876044 1.56122672 0.34695407]\n"
     ]
    }
   ],
   "source": [
    "import numpy as np\n",
    "s = np.random.normal(0,1,100)\n",
    "\n",
    "print(s[9])\n",
    "print(s[9:19])\n",
    "print(s[s>0])\n"
   ]
  },
  {
   "cell_type": "markdown",
   "metadata": {},
   "source": [
    "### Exercise 3\n",
    "Make a function `pow` that raised base `number` to a fixed power `power`. If `power >= 50` print message \"power is too big\" and return `-1`"
   ]
  },
  {
   "cell_type": "code",
   "execution_count": 48,
   "metadata": {},
   "outputs": [
    {
     "data": {
      "text/plain": [
       "16"
      ]
     },
     "execution_count": 48,
     "metadata": {},
     "output_type": "execute_result"
    }
   ],
   "source": [
    "def pow (n,p):\n",
    "    if p>=50:\n",
    "        print('power is too big')\n",
    "        return -1 \n",
    "    else:\n",
    "        res=n**p\n",
    "        return res\n",
    "\n",
    "a=pow(2,4)\n",
    "\n",
    "a\n",
    "\n"
   ]
  },
  {
   "cell_type": "markdown",
   "metadata": {},
   "source": [
    "### Exercise 4\n",
    "Make a function `above(x,n)` which returns all elements `x > n`. By default `n = 10`. &nbsp; `x` argument is a numpy arrays"
   ]
  },
  {
   "cell_type": "code",
   "execution_count": 91,
   "metadata": {},
   "outputs": [
    {
     "name": "stdout",
     "output_type": "stream",
     "text": [
      "14\n",
      "11\n",
      "16\n"
     ]
    }
   ],
   "source": [
    "import numpy as np\n",
    "\n",
    "mylist = [1,3,5,7,9,14,11,16,10]\n",
    "b = np.array(mylist)\n",
    "\n",
    "def above (ar,n=10):\n",
    "    for x in ar:\n",
    "        if x>n:\n",
    "            print (x)\n",
    "\n",
    "above (b,10)\n",
    "\n"
   ]
  },
  {
   "cell_type": "markdown",
   "metadata": {},
   "source": [
    "Test of Ex.4"
   ]
  },
  {
   "cell_type": "code",
   "execution_count": 89,
   "metadata": {},
   "outputs": [
    {
     "data": {
      "text/plain": [
       "array([14, 11, 16])"
      ]
     },
     "execution_count": 89,
     "metadata": {},
     "output_type": "execute_result"
    }
   ],
   "source": [
    "import numpy as np\n",
    "\n",
    "mylist = [1,3,5,7,9,14,11,16,10]\n",
    "b = np.array(mylist)\n",
    "\n",
    "exp=(b>10)\n",
    "\n",
    "b[exp]\n",
    "\n",
    "# На жаль, не знаю як реалізувати завдання саме через функцію для масиву, адже при спробі запису `ar[ar>10]` видає помилку:\n",
    "'The truth value of an array with more than one element is ambiguous.'\n",
    "#Тобто, якщо декілька значень масиву виконують умову (True), програма не знає що саме виводити? Тому я додала варіант із записом самої умови в окрему зміну, яку в подальшому можна застосовувати\n",
    "#для виводу необхідних нам значень"
   ]
  },
  {
   "cell_type": "markdown",
   "metadata": {},
   "source": [
    "### Exercise 5\n",
    "Write a function `my_ifelse(x, exp, n)` which test array `x` with expression `exp` to number `n`. For instance, `my_ifelse(x,'>=',10)` returns all elements of array `x` which greater or equal 10. `exp` can be `<`, `>`, `<=`, `>=`, `==`. If `exp` dont match these expression array `x` is retured"
   ]
  },
  {
   "cell_type": "code",
   "execution_count": 94,
   "metadata": {},
   "outputs": [
    {
     "data": {
      "text/plain": [
       "array([1])"
      ]
     },
     "execution_count": 94,
     "metadata": {},
     "output_type": "execute_result"
    }
   ],
   "source": [
    "import numpy as np\n",
    "\n",
    "mylistex5=[1,3,0.6,2,4,6,0.3,4,7,]\n",
    "ar_ex5 = np.array(mylist)\n",
    "\n",
    "def my_ifelse(x,exp,n):\n",
    "    if exp == \">\":\n",
    "       return x[x>n]\n",
    "    if exp == \"<\":\n",
    "       return x[x<n]\n",
    "    if exp == \">=\":\n",
    "       return x[x>=n]\n",
    "    if exp == \"<=\":\n",
    "       return x[x<=n]\n",
    "    if exp == \"==\":\n",
    "       return x[x==n]\n",
    "    else: return x\n",
    "\n",
    "my_ifelse(ar_ex5,'<',3)\n"
   ]
  },
  {
   "cell_type": "markdown",
   "metadata": {},
   "source": [
    "### Exercise 6\n",
    "Make a function called `counter` that takes a string input_string and returns a dictionary of letter counts."
   ]
  },
  {
   "cell_type": "code",
   "execution_count": 106,
   "metadata": {},
   "outputs": [],
   "source": [
    "input_string='It is test string for exc 6'\n",
    "\n",
    "def counter (s):\n",
    "    count_let={}\n",
    "    for let in s: \n",
    "        if let in count_let:\n",
    "            count_let[let] += 1\n",
    "        else:\n",
    "            count_let[let] = 1\n",
    "    return count_let\n",
    "\n",
    "counter(input_string)\n",
    "        \n",
    "\n"
   ]
  },
  {
   "cell_type": "markdown",
   "metadata": {},
   "source": [
    "### Exercise 7\n",
    "From the function `counter` make function `counter_sorted` with second boolean argumens `reverse` that returns sorted letter counts. Order depends of the `reverse` argument. By default `reverse = False`"
   ]
  },
  {
   "cell_type": "code",
   "execution_count": 132,
   "metadata": {},
   "outputs": [
    {
     "name": "stdout",
     "output_type": "stream",
     "text": [
      "{' ': 6, 't': 4, 's': 3, 'i': 2, 'e': 2, 'r': 2, 'I': 1, 'n': 1, 'g': 1, 'f': 1, 'o': 1, 'x': 1, 'c': 1, '6': 1} \n",
      " {'6': 1, 'I': 1, 'c': 1, 'f': 1, 'g': 1, 'n': 1, 'o': 1, 'x': 1, 'e': 2, 'i': 2, 'r': 2, 's': 3, 't': 4, ' ': 6}\n"
     ]
    }
   ],
   "source": [
    "count_string=counter(input_string)\n",
    "\n",
    "def counter_sorted (c,reverse=False):\n",
    "    if reverse==True:\n",
    "        sorted_tuple=sorted(c.items(), key=lambda item:(item[1],item[0])) #сортуємо словник спочатку за values, адже вони стоять на другому місці (т.е. 1), а потім за ключем (т.е. 0)\n",
    "        sorted_c={k: v for k , v in sorted_tuple}\n",
    "        return sorted_c\n",
    "    if reverse==False:\n",
    "        sorted_tuple=sorted (c.items(), key=lambda item: - item [1]) #сортуємо словник за values в оберненому порядку, на що вказує \"-\" перед item\n",
    "        sorted_c={k: v for k , v in sorted_tuple}\n",
    "        return sorted_c\n",
    "        \n",
    "\n",
    "    \n",
    "print(counter_sorted(count_string),'\\n',counter_sorted(count_string, True))\n",
    "\n"
   ]
  }
 ],
 "metadata": {
  "interpreter": {
   "hash": "f843a079e5343034ef02567ca1a879f548a2d98e58c7922bcae356717ee3c13a"
  },
  "kernelspec": {
   "display_name": "Python 3.10.2 64-bit",
   "language": "python",
   "name": "python3"
  },
  "language_info": {
   "codemirror_mode": {
    "name": "ipython",
    "version": 3
   },
   "file_extension": ".py",
   "mimetype": "text/x-python",
   "name": "python",
   "nbconvert_exporter": "python",
   "pygments_lexer": "ipython3",
   "version": "3.10.2"
  },
  "orig_nbformat": 2
 },
 "nbformat": 4,
 "nbformat_minor": 2
}
