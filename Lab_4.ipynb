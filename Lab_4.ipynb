{
 "cells": [
  {
   "cell_type": "markdown",
   "metadata": {},
   "source": [
    "---\n",
    "\n",
    "_This notebook is based on materials from Coursera course [Introduction to data science with python](https://www.coursera.org/learn/python-data-analysis/)._\n",
    "\n",
    "---"
   ]
  },
  {
   "cell_type": "markdown",
   "metadata": {},
   "source": [
    "#### Data on trees owned by the municipality, designated as “public domain”: street and off-street trees (parks and public places) in Montreal, Canada.\n",
    "\n",
    "Source:\n",
    "https://donnees.montreal.ca/ville-de-montreal/arbres\n",
    "\n",
    "\n"
   ]
  },
  {
   "cell_type": "code",
   "execution_count": 68,
   "metadata": {},
   "outputs": [
    {
     "data": {
      "text/html": [
       "<div>\n",
       "<style scoped>\n",
       "    .dataframe tbody tr th:only-of-type {\n",
       "        vertical-align: middle;\n",
       "    }\n",
       "\n",
       "    .dataframe tbody tr th {\n",
       "        vertical-align: top;\n",
       "    }\n",
       "\n",
       "    .dataframe thead th {\n",
       "        text-align: right;\n",
       "    }\n",
       "</style>\n",
       "<table border=\"1\" class=\"dataframe\">\n",
       "  <thead>\n",
       "    <tr style=\"text-align: right;\">\n",
       "      <th></th>\n",
       "      <th>Relievo</th>\n",
       "      <th>Plant name</th>\n",
       "      <th>Barrel circumference, cm</th>\n",
       "      <th>Data planted</th>\n",
       "      <th>Park</th>\n",
       "    </tr>\n",
       "  </thead>\n",
       "  <tbody>\n",
       "    <tr>\n",
       "      <th>0</th>\n",
       "      <td>Parterre GazonnÃ</td>\n",
       "      <td>Gleditsia triacanthos 'Skyline'</td>\n",
       "      <td>25.0</td>\n",
       "      <td>2004-06-10</td>\n",
       "      <td>RAIMBAULT</td>\n",
       "    </tr>\n",
       "    <tr>\n",
       "      <th>1</th>\n",
       "      <td>Parterre GazonnÃ</td>\n",
       "      <td>Gleditsia triacanthos 'Skyline'</td>\n",
       "      <td>32.0</td>\n",
       "      <td>2004-06-18</td>\n",
       "      <td>RAIMBAULT</td>\n",
       "    </tr>\n",
       "    <tr>\n",
       "      <th>2</th>\n",
       "      <td>Parterre GazonnÃ</td>\n",
       "      <td>Gymnocladus dioicus</td>\n",
       "      <td>21.0</td>\n",
       "      <td>2004-06-10</td>\n",
       "      <td>RAIMBAULT</td>\n",
       "    </tr>\n",
       "    <tr>\n",
       "      <th>3</th>\n",
       "      <td>Parterre GazonnÃ</td>\n",
       "      <td>Fraxinus nigra 'Fall Gold'</td>\n",
       "      <td>5.0</td>\n",
       "      <td>2004-06-18</td>\n",
       "      <td>RAIMBAULT</td>\n",
       "    </tr>\n",
       "    <tr>\n",
       "      <th>4</th>\n",
       "      <td>Parterre GazonnÃ</td>\n",
       "      <td>Quercus rubra</td>\n",
       "      <td>34.0</td>\n",
       "      <td>2004-06-18</td>\n",
       "      <td>RAIMBAULT</td>\n",
       "    </tr>\n",
       "    <tr>\n",
       "      <th>5</th>\n",
       "      <td>Parterre GazonnÃ</td>\n",
       "      <td>Quercus macrocarpa</td>\n",
       "      <td>21.0</td>\n",
       "      <td>2004-06-18</td>\n",
       "      <td>RAIMBAULT</td>\n",
       "    </tr>\n",
       "    <tr>\n",
       "      <th>6</th>\n",
       "      <td>Parterre GazonnÃ</td>\n",
       "      <td>Acer saccharinum 'MontrÃ©al'</td>\n",
       "      <td>30.0</td>\n",
       "      <td>2004-06-18</td>\n",
       "      <td>RAIMBAULT</td>\n",
       "    </tr>\n",
       "    <tr>\n",
       "      <th>7</th>\n",
       "      <td>Parterre GazonnÃ</td>\n",
       "      <td>Acer platanoides 'Emerald Queen'</td>\n",
       "      <td>34.0</td>\n",
       "      <td>2004-06-18</td>\n",
       "      <td>RAIMBAULT</td>\n",
       "    </tr>\n",
       "    <tr>\n",
       "      <th>8</th>\n",
       "      <td>Parterre GazonnÃ</td>\n",
       "      <td>Thuja occidentalis 'Nigra'</td>\n",
       "      <td>27.2</td>\n",
       "      <td>2004-06-18</td>\n",
       "      <td>RAIMBAULT</td>\n",
       "    </tr>\n",
       "    <tr>\n",
       "      <th>9</th>\n",
       "      <td>Parterre GazonnÃ</td>\n",
       "      <td>Thuja occidentalis 'Nigra'</td>\n",
       "      <td>27.8</td>\n",
       "      <td>2004-06-18</td>\n",
       "      <td>RAIMBAULT</td>\n",
       "    </tr>\n",
       "  </tbody>\n",
       "</table>\n",
       "</div>"
      ],
      "text/plain": [
       "            Relievo                        Plant name  \\\n",
       "0  Parterre GazonnÃ   Gleditsia triacanthos 'Skyline'   \n",
       "1  Parterre GazonnÃ   Gleditsia triacanthos 'Skyline'   \n",
       "2  Parterre GazonnÃ               Gymnocladus dioicus   \n",
       "3  Parterre GazonnÃ        Fraxinus nigra 'Fall Gold'   \n",
       "4  Parterre GazonnÃ                     Quercus rubra   \n",
       "5  Parterre GazonnÃ                Quercus macrocarpa   \n",
       "6  Parterre GazonnÃ      Acer saccharinum 'MontrÃ©al'   \n",
       "7  Parterre GazonnÃ  Acer platanoides 'Emerald Queen'   \n",
       "8  Parterre GazonnÃ        Thuja occidentalis 'Nigra'   \n",
       "9  Parterre GazonnÃ        Thuja occidentalis 'Nigra'   \n",
       "\n",
       "   Barrel circumference, cm Data planted       Park  \n",
       "0                      25.0   2004-06-10  RAIMBAULT  \n",
       "1                      32.0   2004-06-18  RAIMBAULT  \n",
       "2                      21.0   2004-06-10  RAIMBAULT  \n",
       "3                       5.0   2004-06-18  RAIMBAULT  \n",
       "4                      34.0   2004-06-18  RAIMBAULT  \n",
       "5                      21.0   2004-06-18  RAIMBAULT  \n",
       "6                      30.0   2004-06-18  RAIMBAULT  \n",
       "7                      34.0   2004-06-18  RAIMBAULT  \n",
       "8                      27.2   2004-06-18  RAIMBAULT  \n",
       "9                      27.8   2004-06-18  RAIMBAULT  "
      ]
     },
     "execution_count": 68,
     "metadata": {},
     "output_type": "execute_result"
    }
   ],
   "source": [
    "import numpy as np\n",
    "import pandas as pd\n",
    "\n",
    "Tree=pd.read_excel('Q:\\Process_min\\Process_Mining\\Trees_Monreal.xlsx')\n",
    "Tree.columns=['Relievo','Plant name', 'Barrel circumference, cm', 'Data planted', 'Park']\n",
    "\n",
    "\n",
    "\n",
    "Tree.head(10)"
   ]
  },
  {
   "cell_type": "markdown",
   "metadata": {},
   "source": [
    "### Question 1\n",
    "\n",
    "How many trees in Montreal? 🌳"
   ]
  },
  {
   "cell_type": "code",
   "execution_count": 69,
   "metadata": {},
   "outputs": [
    {
     "name": "stdout",
     "output_type": "stream",
     "text": [
      "In Montreal are 327059 trees.\n"
     ]
    }
   ],
   "source": [
    "count_t=len(Tree)\n",
    "\n",
    "print('In Montreal are',count_t,'trees.')"
   ]
  },
  {
   "cell_type": "markdown",
   "metadata": {},
   "source": [
    "### Question 2\n",
    "\n",
    "How old is the oldest tree in Montreal?"
   ]
  },
  {
   "cell_type": "code",
   "execution_count": 47,
   "metadata": {},
   "outputs": [
    {
     "name": "stdout",
     "output_type": "stream",
     "text": [
      "120 years\n"
     ]
    }
   ],
   "source": [
    "#%pip install DateTime\n",
    "\n",
    "import datetime\n",
    " \n",
    "Tree['Data planted'] = Tree['Data planted'].astype('datetime64[ns]')\n",
    "\n",
    "old=Tree['Data planted'].min()\n",
    "old.to_datetime64()\n",
    "\n",
    "today = datetime.datetime.now()\n",
    "age= today - old \n",
    "age=age.total_seconds()\n",
    "age=int(age/31536000)\n",
    "print(age, 'years')"
   ]
  },
  {
   "cell_type": "markdown",
   "metadata": {},
   "source": [
    "### Question 3\n",
    "\n",
    "What are 3 the most popular type of plant  in Montreal?"
   ]
  },
  {
   "cell_type": "code",
   "execution_count": 48,
   "metadata": {},
   "outputs": [
    {
     "data": {
      "text/plain": [
       "['Acer saccharinum', 'Acer platanoides', 'Fraxinus pennsylvanica']"
      ]
     },
     "execution_count": 48,
     "metadata": {},
     "output_type": "execute_result"
    }
   ],
   "source": [
    "import numpy as np\n",
    "\n",
    "Tree_3=Tree.groupby(['Plant name']).agg({'Plant name':np.size})\n",
    "Tree_3=Tree_3['Plant name'].sort_values(ascending=False)\n",
    "Top_3=Tree_3.index[0:3]\n",
    "Top_3=Top_3.values.tolist()\n",
    "Top_3"
   ]
  },
  {
   "cell_type": "markdown",
   "metadata": {},
   "source": [
    "### Question 4\n",
    "\n",
    "What is the average diameter of a tree in Montreal?"
   ]
  },
  {
   "cell_type": "code",
   "execution_count": 49,
   "metadata": {},
   "outputs": [
    {
     "name": "stdout",
     "output_type": "stream",
     "text": [
      "26.64 cm\n"
     ]
    }
   ],
   "source": [
    "av_bc=Tree['Barrel circumference, cm'].mean()\n",
    "av_bc=round(av_bc,2)\n",
    "\n",
    "print(av_bc, 'cm')\n"
   ]
  },
  {
   "cell_type": "markdown",
   "metadata": {},
   "source": [
    "### Question 5\n",
    "\n",
    "What park is the biggest in Montreal?"
   ]
  },
  {
   "cell_type": "code",
   "execution_count": 67,
   "metadata": {},
   "outputs": [
    {
     "data": {
      "text/plain": [
       "'MAISONNEUVE, DE'"
      ]
     },
     "execution_count": 67,
     "metadata": {},
     "output_type": "execute_result"
    }
   ],
   "source": [
    "import numpy as np\n",
    "\n",
    "Tree_p=Tree.groupby(['Park']).agg({'Park':np.size})\n",
    "Tree_p=Tree_p['Park'].sort_values(ascending=False)\n",
    "Tree_p.index[0]\n"
   ]
  }
 ],
 "metadata": {
  "anaconda-cloud": {},
  "coursera": {
   "course_slug": "python-data-analysis",
   "graded_item_id": "zAr06",
   "launcher_item_id": "KSSjT",
   "part_id": "SL3fU"
  },
  "interpreter": {
   "hash": "f843a079e5343034ef02567ca1a879f548a2d98e58c7922bcae356717ee3c13a"
  },
  "kernelspec": {
   "display_name": "Python 3.10.2 64-bit",
   "language": "python",
   "name": "python3"
  },
  "language_info": {
   "codemirror_mode": {
    "name": "ipython",
    "version": 3
   },
   "file_extension": ".py",
   "mimetype": "text/x-python",
   "name": "python",
   "nbconvert_exporter": "python",
   "pygments_lexer": "ipython3",
   "version": "3.10.2"
  }
 },
 "nbformat": 4,
 "nbformat_minor": 0
}
